{
 "cells": [
  {
   "cell_type": "code",
   "execution_count": null,
   "id": "a27a1f66-2183-44a1-962a-467705d33fd9",
   "metadata": {},
   "outputs": [
    {
     "name": "stdout",
     "output_type": "stream",
     "text": [
      "Your Friendly BMI Calculator!\n"
     ]
    }
   ],
   "source": [
    "header = \"Your Friendly BMI Calculator!\"\n",
    "print (header)\n",
    "\n",
    "weight = float (input (\"Enter Your Weight in Pounds: \"))\n",
    "height = float (input (\"Enter Your Height in Inches: \"))\n",
    "BMI = (weight * 703) / (height*height)\n",
    "print (\"BMI =\",BMI)\n",
    "\n",
    "\n",
    "if (BMI <18.5):\n",
    "    print (\"You are underweight.\")\n",
    "elif (BMI <=24.9):\n",
    "    print (\"You are normal weight.\")\n",
    "elif (BMI <=29.9):\n",
    "    print (\"You are overweight.\")\n",
    "elif (BMI <=34.9):\n",
    "    print (\"You are obese.\")\n",
    "elif (BMI <=39.9):\n",
    "    print (\"You are severely obese.\")\n",
    "\n",
    "else:\n",
    "    print (\"You are morbidly obese.\")\n"
   ]
  },
  {
   "cell_type": "code",
   "execution_count": null,
   "id": "c78f9f82-0ed4-4ea2-8cd0-bec9740fd615",
   "metadata": {},
   "outputs": [],
   "source": []
  }
 ],
 "metadata": {
  "kernelspec": {
   "display_name": "Python [conda env:base] *",
   "language": "python",
   "name": "conda-base-py"
  },
  "language_info": {
   "codemirror_mode": {
    "name": "ipython",
    "version": 3
   },
   "file_extension": ".py",
   "mimetype": "text/x-python",
   "name": "python",
   "nbconvert_exporter": "python",
   "pygments_lexer": "ipython3",
   "version": "3.12.7"
  }
 },
 "nbformat": 4,
 "nbformat_minor": 5
}
