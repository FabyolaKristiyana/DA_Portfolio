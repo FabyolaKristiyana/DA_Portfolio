{
 "cells": [
  {
   "cell_type": "code",
   "execution_count": 10,
   "id": "99054fba-a51c-4812-9615-b72bd0288613",
   "metadata": {},
   "outputs": [],
   "source": [
    "#Files are ready to be sorted\n",
    "\n",
    "import os, shutil"
   ]
  },
  {
   "cell_type": "code",
   "execution_count": 28,
   "id": "4af8fcfa-7fe1-4a63-a956-542f24a555c7",
   "metadata": {},
   "outputs": [],
   "source": [
    "path = r\"E:/TOOLS/PYTHON/\""
   ]
  },
  {
   "cell_type": "code",
   "execution_count": 30,
   "id": "e36faee9-3218-44ad-b019-f6ac33006c0c",
   "metadata": {},
   "outputs": [
    {
     "data": {
      "text/plain": [
       "['csv',\n",
       " 'excel',\n",
       " 'Excel Project Dataset.xlsx',\n",
       " 'IMG_0027.JPG',\n",
       " 'pic',\n",
       " 'Sales.csv']"
      ]
     },
     "execution_count": 30,
     "metadata": {},
     "output_type": "execute_result"
    }
   ],
   "source": [
    "os.listdir (path)"
   ]
  },
  {
   "cell_type": "code",
   "execution_count": 32,
   "id": "40752841-ad5b-4c82-8b71-a7d9e67046a2",
   "metadata": {},
   "outputs": [],
   "source": [
    "file_name=os.listdir (path)"
   ]
  },
  {
   "cell_type": "code",
   "execution_count": null,
   "id": "79790987-b511-4ced-9e42-512df4c98017",
   "metadata": {},
   "outputs": [],
   "source": [
    "folder_names=['csv files', 'image files', 'excel files']\n",
    "for loop in range (0,3):\n",
    "    if not os.path.exsist (path+folder_names [loop]):\n",
    "        print (path+folder_names[lo])"
   ]
  }
 ],
 "metadata": {
  "kernelspec": {
   "display_name": "Python [conda env:base] *",
   "language": "python",
   "name": "conda-base-py"
  },
  "language_info": {
   "codemirror_mode": {
    "name": "ipython",
    "version": 3
   },
   "file_extension": ".py",
   "mimetype": "text/x-python",
   "name": "python",
   "nbconvert_exporter": "python",
   "pygments_lexer": "ipython3",
   "version": "3.12.7"
  }
 },
 "nbformat": 4,
 "nbformat_minor": 5
}
